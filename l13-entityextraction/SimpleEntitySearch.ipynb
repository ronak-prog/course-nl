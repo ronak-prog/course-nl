{
 "cells": [
  {
   "cell_type": "markdown",
   "metadata": {},
   "source": [
    "## Looking for entities using simple methods"
   ]
  },
  {
   "cell_type": "code",
   "execution_count": 11,
   "metadata": {},
   "outputs": [],
   "source": [
    "table_data = \"country, capital\\\n",
    "    Abkhazia, Sukhumi\\\n",
    "    Afghanistan, Kabul\\\n",
    "    Chad, N'Djamena\\\n",
    "    Chile, Santiago\\\n",
    "    China, Beijing\""
   ]
  },
  {
   "cell_type": "markdown",
   "metadata": {},
   "source": [
    "### Try using regex - information extraction"
   ]
  },
  {
   "cell_type": "code",
   "execution_count": 24,
   "metadata": {},
   "outputs": [],
   "source": [
    "\n",
    "# Import package\n",
    "import re "
   ]
  },
  {
   "cell_type": "code",
   "execution_count": 25,
   "metadata": {},
   "outputs": [],
   "source": [
    "m = re.findall(r'(\\w+), (\\w+)', table_data)"
   ]
  },
  {
   "cell_type": "code",
   "execution_count": 23,
   "metadata": {},
   "outputs": [
    {
     "name": "stdout",
     "output_type": "stream",
     "text": [
      "[('country', 'capital'), ('Abkhazia', 'Sukhumi'), ('Afghanistan', 'Kabul'), ('Chad', 'N'), ('Chile', 'Santiago'), ('China', 'Beijing')]\n"
     ]
    }
   ],
   "source": [
    "print (m)"
   ]
  },
  {
   "cell_type": "markdown",
   "metadata": {},
   "source": [
    "### Try using spacy"
   ]
  },
  {
   "cell_type": "code",
   "execution_count": 26,
   "metadata": {},
   "outputs": [],
   "source": [
    "# Do imports\n",
    "import spacy\n",
    "nlp = spacy.load('en_core_web_sm')"
   ]
  },
  {
   "cell_type": "code",
   "execution_count": 27,
   "metadata": {},
   "outputs": [],
   "source": [
    "doc = nlp(table_data)"
   ]
  },
  {
   "cell_type": "code",
   "execution_count": 28,
   "metadata": {},
   "outputs": [
    {
     "name": "stdout",
     "output_type": "stream",
     "text": [
      "Abkhazia GPE 20 28\n",
      "Sukhumi PERSON 30 37\n",
      "Afghanistan GPE 41 52\n",
      "Kabul GPE 54 59\n",
      "Chad GPE 63 67\n",
      "N'Djamena GPE 69 78\n",
      "Chile GPE 82 87\n",
      "Santiago GPE 89 97\n",
      "China GPE 101 106\n",
      "Beijing GPE 108 115\n"
     ]
    }
   ],
   "source": [
    "for ent in doc.ents:\n",
    "    print(ent.text, ent.label_, ent.start_char, ent.end_char)"
   ]
  },
  {
   "cell_type": "code",
   "execution_count": null,
   "metadata": {},
   "outputs": [],
   "source": [
    "# Note: Sukhumi was not correctly identified"
   ]
  },
  {
   "cell_type": "markdown",
   "metadata": {},
   "source": [
    "### Idenitfying for unstructured data"
   ]
  },
  {
   "cell_type": "code",
   "execution_count": 29,
   "metadata": {},
   "outputs": [],
   "source": [
    "small_data = \"The Nobel Prize is a set of annual international awards bestowed in \\\n",
    "several categories by Swedish and Norwegian institutions in recognition of academic, \\\n",
    "cultural, or scientific advances. The will of the Swedish chemist, engineer and industrialist \\\n",
    "Alfred Nobel established the five Nobel prizes in 1895.\""
   ]
  },
  {
   "cell_type": "code",
   "execution_count": 30,
   "metadata": {},
   "outputs": [
    {
     "name": "stdout",
     "output_type": "stream",
     "text": [
      "The Nobel Prize WORK_OF_ART 0 15\n",
      "Swedish NORP 90 97\n",
      "Norwegian NORP 102 111\n",
      "Swedish NORP 203 210\n",
      "Alfred Nobel PERSON 247 259\n",
      "five CARDINAL 276 280\n",
      "Nobel WORK_OF_ART 281 286\n",
      "1895 DATE 297 301\n"
     ]
    }
   ],
   "source": [
    "doc = nlp(small_data)\n",
    "for ent in doc.ents:\n",
    "    print(ent.text, ent.label_, ent.start_char, ent.end_char)"
   ]
  },
  {
   "cell_type": "code",
   "execution_count": null,
   "metadata": {},
   "outputs": [],
   "source": []
  },
  {
   "cell_type": "code",
   "execution_count": null,
   "metadata": {},
   "outputs": [],
   "source": []
  }
 ],
 "metadata": {
  "kernelspec": {
   "display_name": "Python 3",
   "language": "python",
   "name": "python3"
  },
  "language_info": {
   "codemirror_mode": {
    "name": "ipython",
    "version": 3
   },
   "file_extension": ".py",
   "mimetype": "text/x-python",
   "name": "python",
   "nbconvert_exporter": "python",
   "pygments_lexer": "ipython3",
   "version": "3.8.3"
  }
 },
 "nbformat": 4,
 "nbformat_minor": 4
}
